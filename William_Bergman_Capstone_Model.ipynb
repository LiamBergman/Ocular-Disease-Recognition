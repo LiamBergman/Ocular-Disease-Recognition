{
 "cells": [
  {
   "cell_type": "markdown",
   "id": "c8f1be85-7d0c-4627-a8c6-ed0b370ba7cd",
   "metadata": {
    "tags": []
   },
   "source": [
    "# Baseline Models\n",
    "--- "
   ]
  },
  {
   "cell_type": "markdown",
   "id": "63e7770e-12d6-4506-b254-9252a01d9610",
   "metadata": {},
   "source": [
    "### Introduction\n",
    "\n",
    "This Jupyter notebook serves as part two of a comprehensive guide to building and evaluating multiple machine learning models for the fundus classification task. It follows a systematic approach, starting from data ingestion to model evaluation and hyperparameter tuning. The notebook is organized into distinct sections, each focused on a specific aspect of the data science pipeline:"
   ]
  },
  {
   "cell_type": "markdown",
   "id": "2f792622-4015-4713-a71f-6e25c3193551",
   "metadata": {},
   "source": [
    "## Table of Contents\n",
    "\n",
    "- [Library Imports](#Library-Imports)\n",
    "    - Importing all necessary Python libraries for data manipulation, visualization, and machine learning.\n",
    "    \n",
    "- [Data Loading and Initial Exploration](#Data-Loading)\n",
    "    - Loading the dataset and performing some additional exploratory data analysis.\n",
    "    \n",
    "- [Data Preprocessing](#Data-Preprocessing)\n",
    "    - Feature selection, transformation, and data splitting.\n",
    "    \n",
    "- [Feature Engineering](#Feature-Engineering)\n",
    "    - Additional feature preprocessing, including standardization and one-hot encoding. Also includes image data loading and resizing.\n",
    "    \n",
    "- [Dimensionality Reduction](#Dimensionality-Reduction)\n",
    "    - Applying Principal Component Analysis (PCA) for dimensionality reduction.\n",
    "    \n",
    "- [Model Training and Evaluation](#Model-Training-and-Evaluation)\n",
    "    - Training multiple machine learning models and evaluating their performance.\n",
    "    \n",
    "- [Model Comparison](#Model-Comparison)\n",
    "    - Comparing the performance of different models based on multiple metrics.\n",
    "    \n",
    "- [Hyperparameter Tuning](#Hyperparameter-Tuning)\n",
    "    - Optimizing the performance of selected models using GridSearchCV.\n",
    "\n",
    "- [Tuned Model Comparison](#Tuned-Model-Comparison)\n",
    "    - Comparing the performance of different models after GrindSearchCV and comparing each based on multiple metrics."
   ]
  },
  {
   "cell_type": "markdown",
   "id": "9da379ef-1474-4163-8753-3c6f11ec64ef",
   "metadata": {},
   "source": [
    "### Library Imports"
   ]
  },
  {
   "cell_type": "code",
   "execution_count": 2,
   "id": "e7b2a3fd-3557-4573-99e3-2cd3e7688033",
   "metadata": {
    "tags": []
   },
   "outputs": [],
   "source": [
    "# Standard Libraries\n",
    "import os\n",
    "from PIL import Image\n",
    "\n",
    "# Data Manipulation\n",
    "import pandas as pd\n",
    "import numpy as np\n",
    "\n",
    "# Data Visualization\n",
    "import matplotlib.pyplot as plt\n",
    "import seaborn as sns\n",
    "\n",
    "# Machine Learning - Preprocessing\n",
    "from sklearn.model_selection import train_test_split\n",
    "from sklearn.preprocessing import StandardScaler, OneHotEncoder\n",
    "\n",
    "# Machine Learning - Models\n",
    "from sklearn.linear_model import LogisticRegression\n",
    "from sklearn.ensemble import RandomForestClassifier, GradientBoostingClassifier\n",
    "from sklearn.svm import SVC\n",
    "from sklearn.neural_network import MLPClassifier\n",
    "\n",
    "# Machine Learning - Metrics and Tuning\n",
    "from sklearn.metrics import accuracy_score, recall_score, f1_score, classification_report\n",
    "from sklearn.model_selection import GridSearchCV\n",
    "from sklearn.decomposition import PCA\n",
    "\n",
    "# Deep Learning - PyTorch\n",
    "import torch\n",
    "import torch.nn as nn\n",
    "import torch.optim as optim\n",
    "from torch.utils.data import DataLoader, Dataset, random_split\n",
    "from torchvision import transforms\n",
    "\n",
    "# Statistics\n",
    "from scipy.stats import zscore"
   ]
  },
  {
   "cell_type": "markdown",
   "id": "5f17eb2b-3706-43aa-a6c7-1770dfcbe7a8",
   "metadata": {},
   "source": [
    "### Data Loading"
   ]
  },
  {
   "cell_type": "markdown",
   "id": "1dd28d64-f9b2-47f1-98d0-279ce2eddfdc",
   "metadata": {},
   "source": [
    "Lets load the full dataset and take a look at it. "
   ]
  },
  {
   "cell_type": "code",
   "execution_count": 5,
   "id": "40e095b1-5080-4a6b-8247-526ff55bbbed",
   "metadata": {
    "tags": []
   },
   "outputs": [
    {
     "data": {
      "text/html": [
       "<div>\n",
       "<style scoped>\n",
       "    .dataframe tbody tr th:only-of-type {\n",
       "        vertical-align: middle;\n",
       "    }\n",
       "\n",
       "    .dataframe tbody tr th {\n",
       "        vertical-align: top;\n",
       "    }\n",
       "\n",
       "    .dataframe thead th {\n",
       "        text-align: right;\n",
       "    }\n",
       "</style>\n",
       "<table border=\"1\" class=\"dataframe\">\n",
       "  <thead>\n",
       "    <tr style=\"text-align: right;\">\n",
       "      <th></th>\n",
       "      <th>ID</th>\n",
       "      <th>Patient Age</th>\n",
       "      <th>Patient Sex</th>\n",
       "      <th>Left-Fundus</th>\n",
       "      <th>Right-Fundus</th>\n",
       "      <th>Left-Diagnostic Keywords</th>\n",
       "      <th>Right-Diagnostic Keywords</th>\n",
       "      <th>N</th>\n",
       "      <th>D</th>\n",
       "      <th>G</th>\n",
       "      <th>C</th>\n",
       "      <th>A</th>\n",
       "      <th>H</th>\n",
       "      <th>M</th>\n",
       "      <th>O</th>\n",
       "      <th>filepath</th>\n",
       "      <th>labels</th>\n",
       "      <th>target</th>\n",
       "      <th>filename</th>\n",
       "    </tr>\n",
       "  </thead>\n",
       "  <tbody>\n",
       "    <tr>\n",
       "      <th>0</th>\n",
       "      <td>0</td>\n",
       "      <td>69</td>\n",
       "      <td>Female</td>\n",
       "      <td>0_left.jpg</td>\n",
       "      <td>0_right.jpg</td>\n",
       "      <td>cataract</td>\n",
       "      <td>normal fundus</td>\n",
       "      <td>0</td>\n",
       "      <td>0</td>\n",
       "      <td>0</td>\n",
       "      <td>1</td>\n",
       "      <td>0</td>\n",
       "      <td>0</td>\n",
       "      <td>0</td>\n",
       "      <td>0</td>\n",
       "      <td>../input/ocular-disease-recognition-odir5k/ODI...</td>\n",
       "      <td>['N']</td>\n",
       "      <td>[1, 0, 0, 0, 0, 0, 0, 0]</td>\n",
       "      <td>0_right.jpg</td>\n",
       "    </tr>\n",
       "    <tr>\n",
       "      <th>1</th>\n",
       "      <td>1</td>\n",
       "      <td>57</td>\n",
       "      <td>Male</td>\n",
       "      <td>1_left.jpg</td>\n",
       "      <td>1_right.jpg</td>\n",
       "      <td>normal fundus</td>\n",
       "      <td>normal fundus</td>\n",
       "      <td>1</td>\n",
       "      <td>0</td>\n",
       "      <td>0</td>\n",
       "      <td>0</td>\n",
       "      <td>0</td>\n",
       "      <td>0</td>\n",
       "      <td>0</td>\n",
       "      <td>0</td>\n",
       "      <td>../input/ocular-disease-recognition-odir5k/ODI...</td>\n",
       "      <td>['N']</td>\n",
       "      <td>[1, 0, 0, 0, 0, 0, 0, 0]</td>\n",
       "      <td>1_right.jpg</td>\n",
       "    </tr>\n",
       "    <tr>\n",
       "      <th>2</th>\n",
       "      <td>2</td>\n",
       "      <td>42</td>\n",
       "      <td>Male</td>\n",
       "      <td>2_left.jpg</td>\n",
       "      <td>2_right.jpg</td>\n",
       "      <td>laser spot，moderate non proliferative retinopathy</td>\n",
       "      <td>moderate non proliferative retinopathy</td>\n",
       "      <td>0</td>\n",
       "      <td>1</td>\n",
       "      <td>0</td>\n",
       "      <td>0</td>\n",
       "      <td>0</td>\n",
       "      <td>0</td>\n",
       "      <td>0</td>\n",
       "      <td>1</td>\n",
       "      <td>../input/ocular-disease-recognition-odir5k/ODI...</td>\n",
       "      <td>['D']</td>\n",
       "      <td>[0, 1, 0, 0, 0, 0, 0, 0]</td>\n",
       "      <td>2_right.jpg</td>\n",
       "    </tr>\n",
       "    <tr>\n",
       "      <th>3</th>\n",
       "      <td>4</td>\n",
       "      <td>53</td>\n",
       "      <td>Male</td>\n",
       "      <td>4_left.jpg</td>\n",
       "      <td>4_right.jpg</td>\n",
       "      <td>macular epiretinal membrane</td>\n",
       "      <td>mild nonproliferative retinopathy</td>\n",
       "      <td>0</td>\n",
       "      <td>1</td>\n",
       "      <td>0</td>\n",
       "      <td>0</td>\n",
       "      <td>0</td>\n",
       "      <td>0</td>\n",
       "      <td>0</td>\n",
       "      <td>1</td>\n",
       "      <td>../input/ocular-disease-recognition-odir5k/ODI...</td>\n",
       "      <td>['D']</td>\n",
       "      <td>[0, 1, 0, 0, 0, 0, 0, 0]</td>\n",
       "      <td>4_right.jpg</td>\n",
       "    </tr>\n",
       "    <tr>\n",
       "      <th>4</th>\n",
       "      <td>5</td>\n",
       "      <td>50</td>\n",
       "      <td>Female</td>\n",
       "      <td>5_left.jpg</td>\n",
       "      <td>5_right.jpg</td>\n",
       "      <td>moderate non proliferative retinopathy</td>\n",
       "      <td>moderate non proliferative retinopathy</td>\n",
       "      <td>0</td>\n",
       "      <td>1</td>\n",
       "      <td>0</td>\n",
       "      <td>0</td>\n",
       "      <td>0</td>\n",
       "      <td>0</td>\n",
       "      <td>0</td>\n",
       "      <td>0</td>\n",
       "      <td>../input/ocular-disease-recognition-odir5k/ODI...</td>\n",
       "      <td>['D']</td>\n",
       "      <td>[0, 1, 0, 0, 0, 0, 0, 0]</td>\n",
       "      <td>5_right.jpg</td>\n",
       "    </tr>\n",
       "  </tbody>\n",
       "</table>\n",
       "</div>"
      ],
      "text/plain": [
       "   ID  Patient Age Patient Sex Left-Fundus Right-Fundus  \\\n",
       "0   0           69      Female  0_left.jpg  0_right.jpg   \n",
       "1   1           57        Male  1_left.jpg  1_right.jpg   \n",
       "2   2           42        Male  2_left.jpg  2_right.jpg   \n",
       "3   4           53        Male  4_left.jpg  4_right.jpg   \n",
       "4   5           50      Female  5_left.jpg  5_right.jpg   \n",
       "\n",
       "                            Left-Diagnostic Keywords  \\\n",
       "0                                           cataract   \n",
       "1                                      normal fundus   \n",
       "2  laser spot，moderate non proliferative retinopathy   \n",
       "3                        macular epiretinal membrane   \n",
       "4             moderate non proliferative retinopathy   \n",
       "\n",
       "                Right-Diagnostic Keywords  N  D  G  C  A  H  M  O  \\\n",
       "0                           normal fundus  0  0  0  1  0  0  0  0   \n",
       "1                           normal fundus  1  0  0  0  0  0  0  0   \n",
       "2  moderate non proliferative retinopathy  0  1  0  0  0  0  0  1   \n",
       "3       mild nonproliferative retinopathy  0  1  0  0  0  0  0  1   \n",
       "4  moderate non proliferative retinopathy  0  1  0  0  0  0  0  0   \n",
       "\n",
       "                                            filepath labels  \\\n",
       "0  ../input/ocular-disease-recognition-odir5k/ODI...  ['N']   \n",
       "1  ../input/ocular-disease-recognition-odir5k/ODI...  ['N']   \n",
       "2  ../input/ocular-disease-recognition-odir5k/ODI...  ['D']   \n",
       "3  ../input/ocular-disease-recognition-odir5k/ODI...  ['D']   \n",
       "4  ../input/ocular-disease-recognition-odir5k/ODI...  ['D']   \n",
       "\n",
       "                     target     filename  \n",
       "0  [1, 0, 0, 0, 0, 0, 0, 0]  0_right.jpg  \n",
       "1  [1, 0, 0, 0, 0, 0, 0, 0]  1_right.jpg  \n",
       "2  [0, 1, 0, 0, 0, 0, 0, 0]  2_right.jpg  \n",
       "3  [0, 1, 0, 0, 0, 0, 0, 0]  4_right.jpg  \n",
       "4  [0, 1, 0, 0, 0, 0, 0, 0]  5_right.jpg  "
      ]
     },
     "execution_count": 5,
     "metadata": {},
     "output_type": "execute_result"
    }
   ],
   "source": [
    "# Load the dataset\n",
    "df_path = 'data/full_df.csv'\n",
    "df = pd.read_csv(df_path)\n",
    "\n",
    "# Display the first few rows of data\n",
    "df.head()"
   ]
  },
  {
   "cell_type": "markdown",
   "id": "3fae37e5-b7c5-4c9a-9cd3-0b3189301cb6",
   "metadata": {},
   "source": [
    "### Data Preprocessing"
   ]
  },
  {
   "cell_type": "markdown",
   "id": "18783e71-240e-44d3-aa66-17a5f4001d61",
   "metadata": {},
   "source": [
    "It has been decided to perform the classification on only 3 labels rather than all 8. This will address the data imbalance as the 3 labels are fairly evenly split and will hopefully give us better performance on our models. "
   ]
  },
  {
   "cell_type": "code",
   "execution_count": 8,
   "id": "4e5c8a37-32be-4371-a27c-99a8df19dff7",
   "metadata": {
    "tags": []
   },
   "outputs": [
    {
     "data": {
      "text/html": [
       "<div>\n",
       "<style scoped>\n",
       "    .dataframe tbody tr th:only-of-type {\n",
       "        vertical-align: middle;\n",
       "    }\n",
       "\n",
       "    .dataframe tbody tr th {\n",
       "        vertical-align: top;\n",
       "    }\n",
       "\n",
       "    .dataframe thead th {\n",
       "        text-align: right;\n",
       "    }\n",
       "</style>\n",
       "<table border=\"1\" class=\"dataframe\">\n",
       "  <thead>\n",
       "    <tr style=\"text-align: right;\">\n",
       "      <th></th>\n",
       "      <th>ID</th>\n",
       "      <th>Patient Age</th>\n",
       "      <th>Patient Sex</th>\n",
       "      <th>Left-Fundus</th>\n",
       "      <th>Right-Fundus</th>\n",
       "      <th>Left-Diagnostic Keywords</th>\n",
       "      <th>Right-Diagnostic Keywords</th>\n",
       "      <th>N</th>\n",
       "      <th>D</th>\n",
       "      <th>G</th>\n",
       "      <th>C</th>\n",
       "      <th>A</th>\n",
       "      <th>H</th>\n",
       "      <th>M</th>\n",
       "      <th>O</th>\n",
       "      <th>filepath</th>\n",
       "      <th>labels</th>\n",
       "      <th>target</th>\n",
       "      <th>filename</th>\n",
       "      <th>Grouped-Label</th>\n",
       "    </tr>\n",
       "  </thead>\n",
       "  <tbody>\n",
       "    <tr>\n",
       "      <th>0</th>\n",
       "      <td>0</td>\n",
       "      <td>69</td>\n",
       "      <td>Female</td>\n",
       "      <td>0_left.jpg</td>\n",
       "      <td>0_right.jpg</td>\n",
       "      <td>cataract</td>\n",
       "      <td>normal fundus</td>\n",
       "      <td>0</td>\n",
       "      <td>0</td>\n",
       "      <td>0</td>\n",
       "      <td>1</td>\n",
       "      <td>0</td>\n",
       "      <td>0</td>\n",
       "      <td>0</td>\n",
       "      <td>0</td>\n",
       "      <td>../input/ocular-disease-recognition-odir5k/ODI...</td>\n",
       "      <td>['N']</td>\n",
       "      <td>[1, 0, 0, 0, 0, 0, 0, 0]</td>\n",
       "      <td>0_right.jpg</td>\n",
       "      <td>O</td>\n",
       "    </tr>\n",
       "    <tr>\n",
       "      <th>1</th>\n",
       "      <td>1</td>\n",
       "      <td>57</td>\n",
       "      <td>Male</td>\n",
       "      <td>1_left.jpg</td>\n",
       "      <td>1_right.jpg</td>\n",
       "      <td>normal fundus</td>\n",
       "      <td>normal fundus</td>\n",
       "      <td>1</td>\n",
       "      <td>0</td>\n",
       "      <td>0</td>\n",
       "      <td>0</td>\n",
       "      <td>0</td>\n",
       "      <td>0</td>\n",
       "      <td>0</td>\n",
       "      <td>0</td>\n",
       "      <td>../input/ocular-disease-recognition-odir5k/ODI...</td>\n",
       "      <td>['N']</td>\n",
       "      <td>[1, 0, 0, 0, 0, 0, 0, 0]</td>\n",
       "      <td>1_right.jpg</td>\n",
       "      <td>N</td>\n",
       "    </tr>\n",
       "    <tr>\n",
       "      <th>2</th>\n",
       "      <td>2</td>\n",
       "      <td>42</td>\n",
       "      <td>Male</td>\n",
       "      <td>2_left.jpg</td>\n",
       "      <td>2_right.jpg</td>\n",
       "      <td>laser spot，moderate non proliferative retinopathy</td>\n",
       "      <td>moderate non proliferative retinopathy</td>\n",
       "      <td>0</td>\n",
       "      <td>1</td>\n",
       "      <td>0</td>\n",
       "      <td>0</td>\n",
       "      <td>0</td>\n",
       "      <td>0</td>\n",
       "      <td>0</td>\n",
       "      <td>1</td>\n",
       "      <td>../input/ocular-disease-recognition-odir5k/ODI...</td>\n",
       "      <td>['D']</td>\n",
       "      <td>[0, 1, 0, 0, 0, 0, 0, 0]</td>\n",
       "      <td>2_right.jpg</td>\n",
       "      <td>D</td>\n",
       "    </tr>\n",
       "    <tr>\n",
       "      <th>3</th>\n",
       "      <td>4</td>\n",
       "      <td>53</td>\n",
       "      <td>Male</td>\n",
       "      <td>4_left.jpg</td>\n",
       "      <td>4_right.jpg</td>\n",
       "      <td>macular epiretinal membrane</td>\n",
       "      <td>mild nonproliferative retinopathy</td>\n",
       "      <td>0</td>\n",
       "      <td>1</td>\n",
       "      <td>0</td>\n",
       "      <td>0</td>\n",
       "      <td>0</td>\n",
       "      <td>0</td>\n",
       "      <td>0</td>\n",
       "      <td>1</td>\n",
       "      <td>../input/ocular-disease-recognition-odir5k/ODI...</td>\n",
       "      <td>['D']</td>\n",
       "      <td>[0, 1, 0, 0, 0, 0, 0, 0]</td>\n",
       "      <td>4_right.jpg</td>\n",
       "      <td>D</td>\n",
       "    </tr>\n",
       "    <tr>\n",
       "      <th>4</th>\n",
       "      <td>5</td>\n",
       "      <td>50</td>\n",
       "      <td>Female</td>\n",
       "      <td>5_left.jpg</td>\n",
       "      <td>5_right.jpg</td>\n",
       "      <td>moderate non proliferative retinopathy</td>\n",
       "      <td>moderate non proliferative retinopathy</td>\n",
       "      <td>0</td>\n",
       "      <td>1</td>\n",
       "      <td>0</td>\n",
       "      <td>0</td>\n",
       "      <td>0</td>\n",
       "      <td>0</td>\n",
       "      <td>0</td>\n",
       "      <td>0</td>\n",
       "      <td>../input/ocular-disease-recognition-odir5k/ODI...</td>\n",
       "      <td>['D']</td>\n",
       "      <td>[0, 1, 0, 0, 0, 0, 0, 0]</td>\n",
       "      <td>5_right.jpg</td>\n",
       "      <td>D</td>\n",
       "    </tr>\n",
       "  </tbody>\n",
       "</table>\n",
       "</div>"
      ],
      "text/plain": [
       "   ID  Patient Age Patient Sex Left-Fundus Right-Fundus  \\\n",
       "0   0           69      Female  0_left.jpg  0_right.jpg   \n",
       "1   1           57        Male  1_left.jpg  1_right.jpg   \n",
       "2   2           42        Male  2_left.jpg  2_right.jpg   \n",
       "3   4           53        Male  4_left.jpg  4_right.jpg   \n",
       "4   5           50      Female  5_left.jpg  5_right.jpg   \n",
       "\n",
       "                            Left-Diagnostic Keywords  \\\n",
       "0                                           cataract   \n",
       "1                                      normal fundus   \n",
       "2  laser spot，moderate non proliferative retinopathy   \n",
       "3                        macular epiretinal membrane   \n",
       "4             moderate non proliferative retinopathy   \n",
       "\n",
       "                Right-Diagnostic Keywords  N  D  G  C  A  H  M  O  \\\n",
       "0                           normal fundus  0  0  0  1  0  0  0  0   \n",
       "1                           normal fundus  1  0  0  0  0  0  0  0   \n",
       "2  moderate non proliferative retinopathy  0  1  0  0  0  0  0  1   \n",
       "3       mild nonproliferative retinopathy  0  1  0  0  0  0  0  1   \n",
       "4  moderate non proliferative retinopathy  0  1  0  0  0  0  0  0   \n",
       "\n",
       "                                            filepath labels  \\\n",
       "0  ../input/ocular-disease-recognition-odir5k/ODI...  ['N']   \n",
       "1  ../input/ocular-disease-recognition-odir5k/ODI...  ['N']   \n",
       "2  ../input/ocular-disease-recognition-odir5k/ODI...  ['D']   \n",
       "3  ../input/ocular-disease-recognition-odir5k/ODI...  ['D']   \n",
       "4  ../input/ocular-disease-recognition-odir5k/ODI...  ['D']   \n",
       "\n",
       "                     target     filename Grouped-Label  \n",
       "0  [1, 0, 0, 0, 0, 0, 0, 0]  0_right.jpg             O  \n",
       "1  [1, 0, 0, 0, 0, 0, 0, 0]  1_right.jpg             N  \n",
       "2  [0, 1, 0, 0, 0, 0, 0, 0]  2_right.jpg             D  \n",
       "3  [0, 1, 0, 0, 0, 0, 0, 0]  4_right.jpg             D  \n",
       "4  [0, 1, 0, 0, 0, 0, 0, 0]  5_right.jpg             D  "
      ]
     },
     "execution_count": 8,
     "metadata": {},
     "output_type": "execute_result"
    }
   ],
   "source": [
    "# Initialize a new column 'Grouped-Label' with None\n",
    "df['Grouped-Label'] = None\n",
    "\n",
    "# Assign \"N\" where 'N' column is 1\n",
    "df.loc[df['N'] == 1, 'Grouped-Label'] = 'N'\n",
    "\n",
    "# Assign \"D\" where 'D' column is 1\n",
    "df.loc[df['D'] == 1, 'Grouped-Label'] = 'D'\n",
    "\n",
    "# Assign \"O\" for all remaining cases\n",
    "df.loc[df['Grouped-Label'].isna(), 'Grouped-Label'] = 'O'\n",
    "\n",
    "# Show first few rows to verify the changes\n",
    "df.head()"
   ]
  },
  {
   "cell_type": "markdown",
   "id": "e9c8649f-725c-4348-826f-7ad220778e2b",
   "metadata": {},
   "source": [
    "We are now left with the each row labeled as Normal(N), Diabetic Retinopathy(D), or Other(O)"
   ]
  },
  {
   "cell_type": "markdown",
   "id": "ab54fddd-f2d6-4b43-9b25-688e403fca30",
   "metadata": {},
   "source": [
    "Lets split the data into train and test sets. "
   ]
  },
  {
   "cell_type": "code",
   "execution_count": 9,
   "id": "5843e894-e088-438b-b410-4bbd2c014690",
   "metadata": {
    "tags": []
   },
   "outputs": [
    {
     "data": {
      "text/plain": [
       "(Grouped-Label\n",
       " O    0.339136\n",
       " D    0.332095\n",
       " N    0.328770\n",
       " Name: proportion, dtype: float64,\n",
       " Grouped-Label\n",
       " O    0.339328\n",
       " D    0.332291\n",
       " N    0.328382\n",
       " Name: proportion, dtype: float64)"
      ]
     },
     "execution_count": 9,
     "metadata": {},
     "output_type": "execute_result"
    }
   ],
   "source": [
    "# Perform stratified train-test split based on 'Grouped-Label'\n",
    "train_df, test_df = train_test_split(df, test_size=0.2, stratify=df['Grouped-Label'], random_state=86)\n",
    "\n",
    "# Check the distribution of 'Grouped-Label' in both train and test sets\n",
    "train_dist = train_df['Grouped-Label'].value_counts(normalize=True)\n",
    "test_dist = test_df['Grouped-Label'].value_counts(normalize=True)\n",
    "\n",
    "train_dist, test_dist"
   ]
  },
  {
   "cell_type": "markdown",
   "id": "3483981b-13c6-4b81-874e-65873b79cb9e",
   "metadata": {},
   "source": [
    "Looks well distributed. \n",
    "<br> Lets put the train and test into separate CSVs for future use. "
   ]
  },
  {
   "cell_type": "code",
   "execution_count": 8,
   "id": "b0cfdafb-eca1-4232-9cc3-12c3e7b14d2f",
   "metadata": {
    "tags": []
   },
   "outputs": [
    {
     "data": {
      "text/plain": [
       "('data/train_df.csv', 'data/test_df.csv')"
      ]
     },
     "execution_count": 8,
     "metadata": {},
     "output_type": "execute_result"
    }
   ],
   "source": [
    "# Save the train and test DataFrames to CSV files\n",
    "train_file_path = 'data/train_df.csv'\n",
    "test_file_path = 'data/test_df.csv'\n",
    "\n",
    "train_df.to_csv(train_file_path, index=False)\n",
    "test_df.to_csv(test_file_path, index=False)\n",
    "\n",
    "train_file_path, test_file_path"
   ]
  },
  {
   "cell_type": "markdown",
   "id": "5e88a6a6-08df-48d9-8fcb-c7865341afa6",
   "metadata": {},
   "source": [
    "We now have our train and test data!"
   ]
  },
  {
   "cell_type": "markdown",
   "id": "1fb84a4c-0a37-4184-a171-1423243bdabd",
   "metadata": {},
   "source": [
    "### Feature Engineering"
   ]
  },
  {
   "cell_type": "markdown",
   "id": "09b1a05c-9236-486d-9442-a800d5848c73",
   "metadata": {},
   "source": [
    "Here we are going prepare the dataframes for concatination as well as normalization, standardization and one hot encoding. "
   ]
  },
  {
   "cell_type": "code",
   "execution_count": 18,
   "id": "3d47fe3d-9220-401b-a0f8-b3c05101a1b0",
   "metadata": {
    "tags": []
   },
   "outputs": [
    {
     "name": "stderr",
     "output_type": "stream",
     "text": [
      "C:\\Users\\LiamB\\AppData\\Roaming\\Python\\Python310\\site-packages\\sklearn\\preprocessing\\_encoders.py:972: FutureWarning: `sparse` was renamed to `sparse_output` in version 1.2 and will be removed in 1.4. `sparse_output` is ignored unless you leave `sparse` to its default value.\n",
      "  warnings.warn(\n"
     ]
    }
   ],
   "source": [
    "# Columns to keep\n",
    "columns_to_keep = ['Patient Age', 'Grouped-Label', 'Patient Sex', 'filename']\n",
    "\n",
    "# Columns to drop are those not in 'columns_to_keep'\n",
    "columns_to_drop = [col for col in train_df.columns if col not in columns_to_keep]\n",
    "\n",
    "# Drop unnecessary columns\n",
    "train_df = train_df.drop(columns=columns_to_drop)\n",
    "test_df = test_df.drop(columns=columns_to_drop)\n",
    "\n",
    "# Initialize a StandardScaler and OneHotEncoder\n",
    "scaler = StandardScaler()\n",
    "encoder = OneHotEncoder(sparse=False)\n",
    "\n",
    "# Standardize 'Patient Age' in train and test DataFrames\n",
    "standardized_train_age = scaler.fit_transform(train_df[['Patient Age']])\n",
    "standardized_test_age = scaler.transform(test_df[['Patient Age']])\n",
    "\n",
    "# One-hot encode 'Grouped-Label' and 'Patient Sex' in train and test DataFrames\n",
    "onehot_train = encoder.fit_transform(train_df[['Grouped-Label', 'Patient Sex']])\n",
    "onehot_test = encoder.transform(test_df[['Grouped-Label', 'Patient Sex']])\n",
    "\n",
    "# Initialize lists to store final data\n",
    "final_train_data = []\n",
    "final_test_data = []\n",
    "\n",
    "train_df.reset_index(drop=True, inplace=True)\n",
    "test_df.reset_index(drop=True, inplace=True)\n",
    "\n",
    "# Process images and concatenate with tabular data for train set\n",
    "for idx, row in train_df.iterrows():\n",
    "    image_path = f\"data/preprocessed_images/{row['filename']}\"\n",
    "    image = Image.open(image_path)\n",
    "    image = image.resize((256,256))\n",
    "    image_array = np.array(image)\n",
    "    flattened_image_array = image_array.flatten()\n",
    "    normalized_image_array = flattened_image_array / 255.0\n",
    "    final_data = np.concatenate([normalized_image_array, standardized_train_age[idx], onehot_train[idx]])\n",
    "    final_train_data.append(final_data)\n",
    "\n",
    "# Process images and concatenate with tabular data for test set\n",
    "for idx, row in test_df.iterrows():\n",
    "    image_path = f\"data/preprocessed_images/{row['filename']}\"\n",
    "    image = Image.open(image_path)\n",
    "    image = image.resize((256,256))\n",
    "    image_array = np.array(image)\n",
    "    flattened_image_array = image_array.flatten()\n",
    "    normalized_image_array = flattened_image_array / 255.0\n",
    "    final_data = np.concatenate([normalized_image_array, standardized_test_age[idx], onehot_test[idx]])\n",
    "    final_test_data.append(final_data)\n",
    "\n",
    "# Step 9: Convert lists to NumPy arrays\n",
    "final_train_data = np.array(final_train_data)\n",
    "final_test_data = np.array(final_test_data)"
   ]
  },
  {
   "cell_type": "markdown",
   "id": "acb96299-5b51-48e9-a28d-56508036a908",
   "metadata": {},
   "source": [
    "We are now left with our final train and test arrays before we begin PCA. The patient sex has been one hot encoded and the patient age has been standardized which is important for PCA. "
   ]
  },
  {
   "cell_type": "markdown",
   "id": "fa153a0c-7618-44fa-9374-1ef8a91e7b81",
   "metadata": {},
   "source": [
    "### Dimensionality Reduction"
   ]
  },
  {
   "cell_type": "markdown",
   "id": "be4c969b-7b23-4d3e-8255-3c39ec24487e",
   "metadata": {},
   "source": [
    "Here we will perform some dimensionality reduction. We are setting a 95% variance threshold to capture the most important features. "
   ]
  },
  {
   "cell_type": "code",
   "execution_count": 19,
   "id": "028732dd-9f15-432c-b9ed-5a00755f086a",
   "metadata": {
    "tags": []
   },
   "outputs": [],
   "source": [
    "# Initialize PCA\n",
    "pca = PCA(n_components=0.95)  # Here, PCA will retain 95% of the variance\n",
    "\n",
    "# Fit PCA on the training data and transform both training and test data\n",
    "pca_train_data = pca.fit_transform(final_train_data)\n",
    "pca_test_data = pca.transform(final_test_data)"
   ]
  },
  {
   "cell_type": "markdown",
   "id": "4869fc7d-37b7-477f-b666-abc0b4bfdd4d",
   "metadata": {},
   "source": [
    "How was the data reduced?"
   ]
  },
  {
   "cell_type": "code",
   "execution_count": 26,
   "id": "ce1dc6aa-f6d2-4c50-9e64-361bf656110e",
   "metadata": {
    "tags": []
   },
   "outputs": [
    {
     "name": "stdout",
     "output_type": "stream",
     "text": [
      "Number of principal components: 42\n"
     ]
    }
   ],
   "source": [
    "num_components = pca.n_components_\n",
    "print(f\"Number of principal components: {num_components}\")"
   ]
  },
  {
   "cell_type": "markdown",
   "id": "ca95b2e9-fdd3-4aac-a0ca-51621f574cfb",
   "metadata": {},
   "source": [
    "We have reduced the data down to 42 components. "
   ]
  },
  {
   "cell_type": "markdown",
   "id": "4da82680-32c7-4c5f-86c5-5243e2db0764",
   "metadata": {},
   "source": [
    "### Model Training and Evaluation"
   ]
  },
  {
   "cell_type": "markdown",
   "id": "33e1e420-66f5-4488-8c69-844358b5432e",
   "metadata": {},
   "source": [
    "Here we will take a look at look 5 different models to get a baseline to compare our final model. \n",
    "<br> The 5 models are Logistic Regression, Random Forest, SVM, Gradient Boostin and a simple Neural Network. "
   ]
  },
  {
   "cell_type": "markdown",
   "id": "7a6624de-22d2-41cb-84e2-b425f56899f1",
   "metadata": {},
   "source": [
    "Lets start with Logistic Regression"
   ]
  },
  {
   "cell_type": "code",
   "execution_count": 29,
   "id": "abcb70e0-01b7-4ba2-9320-45a2a03ed827",
   "metadata": {
    "tags": []
   },
   "outputs": [
    {
     "name": "stdout",
     "output_type": "stream",
     "text": [
      "Logistic Regression Accuracy: 0.4394057857701329\n"
     ]
    }
   ],
   "source": [
    "# Initialize and train the Logistic Regression model\n",
    "logistic_model = LogisticRegression(max_iter=1000, random_state=86, n_jobs=-1)\n",
    "logistic_model.fit(pca_train_data, train_df['Grouped-Label'])\n",
    "\n",
    "# Make predictions and evaluate\n",
    "logistic_predictions = logistic_model.predict(pca_test_data)\n",
    "logistic_accuracy = accuracy_score(test_df['Grouped-Label'], logistic_predictions)\n",
    "print(f\"Logistic Regression Accuracy: {logistic_accuracy}\")"
   ]
  },
  {
   "cell_type": "markdown",
   "id": "2d6aca1a-d940-4c50-a442-58034994c3f2",
   "metadata": {},
   "source": [
    "Lets look at the classification report to compare our metrics of F1, Recall, and Accuracy. "
   ]
  },
  {
   "cell_type": "code",
   "execution_count": 33,
   "id": "383443bb-c473-44c1-8bf9-e6edbd4bbc62",
   "metadata": {
    "tags": []
   },
   "outputs": [
    {
     "name": "stdout",
     "output_type": "stream",
     "text": [
      "Logistic Regression Metrics:\n",
      "              precision    recall  f1-score   support\n",
      "\n",
      "           D       0.44      0.52      0.48       425\n",
      "           N       0.44      0.45      0.44       420\n",
      "           O       0.45      0.35      0.39       434\n",
      "\n",
      "    accuracy                           0.44      1279\n",
      "   macro avg       0.44      0.44      0.44      1279\n",
      "weighted avg       0.44      0.44      0.44      1279\n",
      "\n"
     ]
    }
   ],
   "source": [
    "logistic_predictions = logistic_model.predict(pca_test_data)\n",
    "print(\"Logistic Regression Metrics:\")\n",
    "print(classification_report(test_df['Grouped-Label'], logistic_predictions))"
   ]
  },
  {
   "cell_type": "markdown",
   "id": "8929b35a-520e-444c-bb4c-3f00d5e9fd10",
   "metadata": {},
   "source": [
    "Next we will look at a Random Forest Classifier "
   ]
  },
  {
   "cell_type": "code",
   "execution_count": 28,
   "id": "0a56c610-2fdc-4c5d-98ac-6d3ec5fc1d8d",
   "metadata": {
    "tags": []
   },
   "outputs": [
    {
     "name": "stdout",
     "output_type": "stream",
     "text": [
      "Model Accuracy: 0.45582486317435494\n"
     ]
    }
   ],
   "source": [
    "# Initialize the Random Forest Classifier\n",
    "rf = RandomForestClassifier(n_estimators=100, random_state=86, n_jobs=-1)\n",
    "\n",
    "# Fit the model on the training data\n",
    "rf.fit(pca_train_data, train_df['Grouped-Label'])\n",
    "\n",
    "# Predict the labels for the test data\n",
    "predictions = rf.predict(pca_test_data)\n",
    "\n",
    "# Evaluate the model\n",
    "accuracy = accuracy_score(test_df['Grouped-Label'], predictions)\n",
    "print(f\"Model Accuracy: {accuracy}\")"
   ]
  },
  {
   "cell_type": "markdown",
   "id": "e51b61fe-f2d9-4ef9-aba5-9e5d094805de",
   "metadata": {},
   "source": [
    "Lets look at the classification report to compare our metrics of F1, Recall, and Accuracy. "
   ]
  },
  {
   "cell_type": "code",
   "execution_count": 35,
   "id": "be650484-cb95-49b1-8ac9-874e4d341f7a",
   "metadata": {
    "tags": []
   },
   "outputs": [
    {
     "name": "stdout",
     "output_type": "stream",
     "text": [
      "Random Forest Metrics:\n",
      "              precision    recall  f1-score   support\n",
      "\n",
      "           D       0.45      0.49      0.47       425\n",
      "           N       0.44      0.44      0.44       420\n",
      "           O       0.48      0.44      0.46       434\n",
      "\n",
      "    accuracy                           0.46      1279\n",
      "   macro avg       0.46      0.46      0.46      1279\n",
      "weighted avg       0.46      0.46      0.46      1279\n",
      "\n"
     ]
    }
   ],
   "source": [
    "rf_predictions = rf.predict(pca_test_data)\n",
    "print(\"Random Forest Metrics:\")\n",
    "print(classification_report(test_df['Grouped-Label'], rf_predictions))"
   ]
  },
  {
   "cell_type": "markdown",
   "id": "4afb1ad1-1f7c-483c-8c53-f96400e3915f",
   "metadata": {},
   "source": [
    "Here we will try out an SVM Model"
   ]
  },
  {
   "cell_type": "code",
   "execution_count": 30,
   "id": "2ce92a7e-1299-4208-a53b-d65035500c82",
   "metadata": {
    "tags": []
   },
   "outputs": [
    {
     "name": "stdout",
     "output_type": "stream",
     "text": [
      "SVM Accuracy: 0.4691164972634871\n"
     ]
    }
   ],
   "source": [
    "# Initialize and train the SVM model\n",
    "svm_model = SVC(random_state=86)\n",
    "svm_model.fit(pca_train_data, train_df['Grouped-Label'])\n",
    "\n",
    "# Make predictions and evaluate\n",
    "svm_predictions = svm_model.predict(pca_test_data)\n",
    "svm_accuracy = accuracy_score(test_df['Grouped-Label'], svm_predictions)\n",
    "print(f\"SVM Accuracy: {svm_accuracy}\")"
   ]
  },
  {
   "cell_type": "markdown",
   "id": "7704588a-ddb1-4326-8c05-4a0d6a1fb2ee",
   "metadata": {},
   "source": [
    "Lets look at the classification report to compare our metrics of F1, Recall, and Accuracy. "
   ]
  },
  {
   "cell_type": "code",
   "execution_count": 36,
   "id": "010d7f6e-13de-4225-9b14-3f5186b39156",
   "metadata": {
    "tags": []
   },
   "outputs": [
    {
     "name": "stdout",
     "output_type": "stream",
     "text": [
      "SVM Metrics:\n",
      "              precision    recall  f1-score   support\n",
      "\n",
      "           D       0.46      0.58      0.51       425\n",
      "           N       0.45      0.51      0.48       420\n",
      "           O       0.53      0.32      0.40       434\n",
      "\n",
      "    accuracy                           0.47      1279\n",
      "   macro avg       0.48      0.47      0.46      1279\n",
      "weighted avg       0.48      0.47      0.46      1279\n",
      "\n"
     ]
    }
   ],
   "source": [
    "svm_predictions = svm_model.predict(pca_test_data)\n",
    "print(\"SVM Metrics:\")\n",
    "print(classification_report(test_df['Grouped-Label'], svm_predictions))"
   ]
  },
  {
   "cell_type": "markdown",
   "id": "35e6db9e-9b3a-4a5c-9e01-433c93e74a2f",
   "metadata": {},
   "source": [
    "Here we will try a simple Gradient Boosting Model. "
   ]
  },
  {
   "cell_type": "code",
   "execution_count": 31,
   "id": "7bdcf0c5-5405-4231-b9c6-9bda4d448cf0",
   "metadata": {
    "tags": []
   },
   "outputs": [
    {
     "name": "stdout",
     "output_type": "stream",
     "text": [
      "Gradient Boosting Accuracy: 0.45269741985926504\n"
     ]
    }
   ],
   "source": [
    "# Initialize and train the Gradient Boosting model\n",
    "gb_model = GradientBoostingClassifier(random_state=86)\n",
    "gb_model.fit(pca_train_data, train_df['Grouped-Label'])\n",
    "\n",
    "# Make predictions and evaluate\n",
    "gb_predictions = gb_model.predict(pca_test_data)\n",
    "gb_accuracy = accuracy_score(test_df['Grouped-Label'], gb_predictions)\n",
    "print(f\"Gradient Boosting Accuracy: {gb_accuracy}\")"
   ]
  },
  {
   "cell_type": "markdown",
   "id": "7f8bf88d-aef1-468d-b545-52d15fb5c4c7",
   "metadata": {},
   "source": [
    "Lets look at the classification report to compare our metrics of F1, Recall, and Accuracy. "
   ]
  },
  {
   "cell_type": "code",
   "execution_count": 37,
   "id": "aba2f224-a0a7-41c6-8b05-4bd747e90386",
   "metadata": {
    "tags": []
   },
   "outputs": [
    {
     "name": "stdout",
     "output_type": "stream",
     "text": [
      "Gradient Boosting Metrics:\n",
      "              precision    recall  f1-score   support\n",
      "\n",
      "           D       0.46      0.53      0.49       425\n",
      "           N       0.43      0.44      0.43       420\n",
      "           O       0.47      0.40      0.43       434\n",
      "\n",
      "    accuracy                           0.45      1279\n",
      "   macro avg       0.45      0.45      0.45      1279\n",
      "weighted avg       0.45      0.45      0.45      1279\n",
      "\n"
     ]
    }
   ],
   "source": [
    "gb_predictions = gb_model.predict(pca_test_data)\n",
    "print(\"Gradient Boosting Metrics:\")\n",
    "print(classification_report(test_df['Grouped-Label'], gb_predictions))"
   ]
  },
  {
   "cell_type": "markdown",
   "id": "f5440e6b-42bb-42ed-8dcd-de1ff22085aa",
   "metadata": {},
   "source": [
    "Here we will test out a Simple Neural Network model. "
   ]
  },
  {
   "cell_type": "code",
   "execution_count": 32,
   "id": "7de14efa-d551-4463-8522-2bd75f4a010e",
   "metadata": {
    "tags": []
   },
   "outputs": [
    {
     "name": "stdout",
     "output_type": "stream",
     "text": [
      "Neural Network Accuracy: 0.40500390930414387\n"
     ]
    }
   ],
   "source": [
    "# Initialize and train the Neural Network model\n",
    "nn_model = MLPClassifier(hidden_layer_sizes=(100,), max_iter=500, random_state=86)\n",
    "nn_model.fit(pca_train_data, train_df['Grouped-Label'])\n",
    "\n",
    "# Make predictions and evaluate\n",
    "nn_predictions = nn_model.predict(pca_test_data)\n",
    "nn_accuracy = accuracy_score(test_df['Grouped-Label'], nn_predictions)\n",
    "print(f\"Neural Network Accuracy: {nn_accuracy}\")"
   ]
  },
  {
   "cell_type": "markdown",
   "id": "37fbd122-d8f4-4970-9ec1-9ea2a0451b59",
   "metadata": {},
   "source": [
    "Lets look at the classification report to compare our metrics of F1, Recall, and Accuracy. "
   ]
  },
  {
   "cell_type": "code",
   "execution_count": 38,
   "id": "c584a65e-4a37-452f-9a04-a7668618599d",
   "metadata": {
    "tags": []
   },
   "outputs": [
    {
     "name": "stdout",
     "output_type": "stream",
     "text": [
      "Neural Network Metrics:\n",
      "              precision    recall  f1-score   support\n",
      "\n",
      "           D       0.40      0.42      0.41       425\n",
      "           N       0.38      0.34      0.36       420\n",
      "           O       0.43      0.46      0.44       434\n",
      "\n",
      "    accuracy                           0.41      1279\n",
      "   macro avg       0.40      0.40      0.40      1279\n",
      "weighted avg       0.40      0.41      0.40      1279\n",
      "\n"
     ]
    }
   ],
   "source": [
    "nn_predictions = nn_model.predict(pca_test_data)\n",
    "print(\"Neural Network Metrics:\")\n",
    "print(classification_report(test_df['Grouped-Label'], nn_predictions))"
   ]
  },
  {
   "cell_type": "markdown",
   "id": "00ffef03-1851-47b7-b5b6-628dfef29d36",
   "metadata": {},
   "source": [
    "### Model Comparison"
   ]
  },
  {
   "cell_type": "code",
   "execution_count": 39,
   "id": "4384d174-6343-4ff1-a2e4-fa3c6ef37a38",
   "metadata": {
    "tags": []
   },
   "outputs": [
    {
     "data": {
      "image/png": "[encoded data removed]",
      "text/plain": [
       "<Figure size 1000x600 with 1 Axes>"
      ]
     },
     "metadata": {},
     "output_type": "display_data"
    }
   ],
   "source": [
    "# Initialize lists to hold metrics\n",
    "models = ['Logistic Regression', 'Random Forest', 'SVM', 'Gradient Boosting', 'Neural Networks']\n",
    "accuracy_scores = []\n",
    "recall_scores = []\n",
    "f1_scores = []\n",
    "\n",
    "# Calculate metrics for each model and add to lists\n",
    "for model, predictions in zip(models, [logistic_predictions, rf_predictions, svm_predictions, gb_predictions, nn_predictions]):\n",
    "    accuracy_scores.append(accuracy_score(test_df['Grouped-Label'], predictions))\n",
    "    recall_scores.append(recall_score(test_df['Grouped-Label'], predictions, average='weighted'))\n",
    "    f1_scores.append(f1_score(test_df['Grouped-Label'], predictions, average='weighted'))\n",
    "\n",
    "# Create subplots for each metric\n",
    "fig, ax = plt.subplots(figsize=(10, 6))\n",
    "\n",
    "# Create an index for each tick position\n",
    "ind = np.arange(len(models))\n",
    "\n",
    "# Plot accuracy\n",
    "accuracy_bar = ax.barh(ind - 0.2, accuracy_scores, 0.2, color='r', label='Accuracy')\n",
    "\n",
    "# Plot recall\n",
    "recall_bar = ax.barh(ind, recall_scores, 0.2, color='g', label='Recall')\n",
    "\n",
    "# Plot F1 Score\n",
    "f1_score_bar = ax.barh(ind + 0.2, f1_scores, 0.2, color='b', label='F1 Score')\n",
    "\n",
    "# Describe the data\n",
    "ax.set_xlabel('Scores')\n",
    "ax.set_title('Model Comparison: Accuracy, Recall, F1 Score')\n",
    "ax.set_yticks(ind)\n",
    "ax.set_yticklabels(models)\n",
    "ax.legend()\n",
    "\n",
    "plt.show()"
   ]
  },
  {
   "cell_type": "markdown",
   "id": "86e0951c-9de8-4cdb-9044-680d42077d31",
   "metadata": {},
   "source": [
    "### Model Performance Summary for Fundus Image Categorization\n",
    "\n",
    "The primary evaluation metrics focused on are Recall, F1-score, and Accuracy. Below is a summary of each model's performance based on these key metrics:\n",
    "\n",
    "#### Logistic Regression\n",
    "- **Accuracy**: 44%\n",
    "- **Recall (Macro Avg)**: 0.44\n",
    "- **F1-Score (Macro Avg)**: 0.44  \n",
    "  - Shows balanced performance across classes but would require improvement for clinical applicability.\n",
    "\n",
    "#### Random Forest\n",
    "- **Accuracy**: 46%\n",
    "- **Recall (Macro Avg)**: 0.46\n",
    "- **F1-Score (Macro Avg)**: 0.46  \n",
    "  - Slightly better in terms of recall and F1-score compared to Logistic Regression.\n",
    "\n",
    "#### Support Vector Machine (SVM)\n",
    "- **Accuracy**: 47%\n",
    "- **Recall (Macro Avg)**: 0.47\n",
    "- **F1-Score (Macro Avg)**: 0.46  \n",
    "  - Exhibits the best accuracy among the models and has comparable recall and F1-scores.\n",
    "\n",
    "#### Gradient Boosting\n",
    "- **Accuracy**: 45%\n",
    "- **Recall (Macro Avg)**: 0.45\n",
    "- **F1-Score (Macro Avg)**: 0.45  \n",
    "  - Similar performance to Random Forest in terms of the focused metrics.\n",
    "\n",
    "#### Neural Network\n",
    "- **Accuracy**: 41%\n",
    "- **Recall (Macro Avg)**: 0.40\n",
    "- **F1-Score (Macro Avg)**: 0.40  \n",
    "  - Performs the least effectively among the evaluated models, showing the lowest scores in recall and F1-score.\n",
    "\n",
    "In the context of disease detection through fundus images, the focus on Recall is particularly important to minimize false negatives. Among the evaluated models, SVM shows promise with the highest accuracy and competitive recall and F1-scores. However, all models show room for improvement to reach a clinically acceptable performance level, potentially through further feature engineering, hyperparameter tuning, or advanced neural network architectures.\n"
   ]
  },
  {
   "cell_type": "markdown",
   "id": "31b60c85-0824-4ac5-8bff-6d457df32aee",
   "metadata": {},
   "source": [
    "### Hyperparameter Tuning"
   ]
  },
  {
   "cell_type": "markdown",
   "id": "9272ee6b-271c-4f32-a52d-038720b465f8",
   "metadata": {},
   "source": [
    "In this section, we delve into the fine-tuning of machine learning models. The models are tuned using GridSearchCV to find the best hyperparameters, following which their performance is measured in terms of key metrics: Recall, F1-score, and Accuracy. The objective is to identify the model that optimally balances these metrics for the most reliable and clinically viable disease detection."
   ]
  },
  {
   "cell_type": "markdown",
   "id": "6bce49cd-5e67-42df-a52f-afa51b5683ab",
   "metadata": {},
   "source": [
    "Here is the the Linear Regression model with a number of Grid Search parameters. "
   ]
  },
  {
   "cell_type": "code",
   "execution_count": 45,
   "id": "9b9dfa0f-27fc-4a19-b009-f4d69d105299",
   "metadata": {
    "tags": []
   },
   "outputs": [
    {
     "name": "stdout",
     "output_type": "stream",
     "text": [
      "Best Parameters for Logistic Regression: {'C': 0.001, 'max_iter': 1000, 'penalty': 'l2', 'solver': 'lbfgs'}\n",
      "Logistic Regression - Accuracy: 0.43471462079749806, Recall: 0.43471462079749806, F1 Score: 0.4314577556625806\n"
     ]
    }
   ],
   "source": [
    "param_grid_lr = {'C': [0.001, 0.01, 0.1, 1, 10, 100], 'penalty': ['l2'], 'solver': ['lbfgs', 'saga'], 'max_iter': [1000, 2000]}\n",
    "grid_search_lr = GridSearchCV(LogisticRegression(random_state=86), param_grid_lr, n_jobs=-1)\n",
    "grid_search_lr.fit(pca_train_data, train_df['Grouped-Label'])\n",
    "print(f\"Best Parameters for Logistic Regression: {grid_search_lr.best_params_}\")\n",
    "\n",
    "best_lr_model = grid_search_lr.best_estimator_\n",
    "lr_predictions = best_lr_model.predict(pca_test_data)\n",
    "\n",
    "# Calculate metrics\n",
    "lr_accuracy = accuracy_score(test_df['Grouped-Label'], lr_predictions)\n",
    "lr_recall = recall_score(test_df['Grouped-Label'], lr_predictions, average='weighted')\n",
    "lr_f1 = f1_score(test_df['Grouped-Label'], lr_predictions, average='weighted')\n",
    "\n",
    "print(f\"Logistic Regression - Accuracy: {lr_accuracy}, Recall: {lr_recall}, F1 Score: {lr_f1}\")"
   ]
  },
  {
   "cell_type": "markdown",
   "id": "07830b6b-a33b-482a-bd0e-8a1c4c143669",
   "metadata": {},
   "source": [
    "Here is the the Random Forest Classifier model with a number of Grid Search parameters. "
   ]
  },
  {
   "cell_type": "code",
   "execution_count": 46,
   "id": "fb26a4a2-6326-4d34-8071-2b5d20572efc",
   "metadata": {
    "tags": []
   },
   "outputs": [
    {
     "name": "stdout",
     "output_type": "stream",
     "text": [
      "Best Parameters for Random Forest: {'max_depth': 30, 'n_estimators': 200}\n",
      "Random Forest - Accuracy: 0.4761532447224394, Recall: 0.4761532447224394, F1 Score: 0.4763642057670362\n"
     ]
    }
   ],
   "source": [
    "param_grid_rf = {'n_estimators': [50, 100, 200], 'max_depth': [10, 20, 30]}\n",
    "grid_search_rf = GridSearchCV(RandomForestClassifier(random_state=86), param_grid_rf, n_jobs=-1)\n",
    "grid_search_rf.fit(pca_train_data, train_df['Grouped-Label'])\n",
    "print(f\"Best Parameters for Random Forest: {grid_search_rf.best_params_}\")\n",
    "\n",
    "best_rf_model = grid_search_rf.best_estimator_\n",
    "rf_predictions = best_rf_model.predict(pca_test_data)\n",
    "\n",
    "# Calculate metrics\n",
    "rf_accuracy = accuracy_score(test_df['Grouped-Label'], rf_predictions)\n",
    "rf_recall = recall_score(test_df['Grouped-Label'], rf_predictions, average='weighted')\n",
    "rf_f1 = f1_score(test_df['Grouped-Label'], rf_predictions, average='weighted')\n",
    "\n",
    "print(f\"Random Forest - Accuracy: {rf_accuracy}, Recall: {rf_recall}, F1 Score: {rf_f1}\")"
   ]
  },
  {
   "cell_type": "markdown",
   "id": "a9ae5ba5-5bc6-4683-942e-ef76d829ef70",
   "metadata": {},
   "source": [
    "Here is the the SVM model with a number of Grid Search parameters. "
   ]
  },
  {
   "cell_type": "code",
   "execution_count": 47,
   "id": "813739fa-9656-4925-ae72-b0be05255b5c",
   "metadata": {
    "tags": []
   },
   "outputs": [
    {
     "name": "stdout",
     "output_type": "stream",
     "text": [
      "Best Parameters for SVM: {'C': 10, 'kernel': 'rbf'}\n",
      "SVM - Accuracy: 0.4472243940578577, Recall: 0.4472243940578577, F1 Score: 0.4436809721828073\n"
     ]
    }
   ],
   "source": [
    "\n",
    "param_grid_svm = {'C': [0.1, 1, 10], 'kernel': ['linear', 'rbf']}\n",
    "grid_search_svm = GridSearchCV(SVC(random_state=86), param_grid_svm, n_jobs=-1)\n",
    "grid_search_svm.fit(pca_train_data, train_df['Grouped-Label'])\n",
    "print(f\"Best Parameters for SVM: {grid_search_svm.best_params_}\")\n",
    "\n",
    "best_svm_model = grid_search_svm.best_estimator_\n",
    "svm_predictions = best_svm_model.predict(pca_test_data)\n",
    "\n",
    "# Calculate metrics\n",
    "svm_accuracy = accuracy_score(test_df['Grouped-Label'], svm_predictions)\n",
    "svm_recall = recall_score(test_df['Grouped-Label'], svm_predictions, average='weighted')\n",
    "svm_f1 = f1_score(test_df['Grouped-Label'], svm_predictions, average='weighted')\n",
    "\n",
    "print(f\"SVM - Accuracy: {svm_accuracy}, Recall: {svm_recall}, F1 Score: {svm_f1}\")"
   ]
  },
  {
   "cell_type": "markdown",
   "id": "e39d1933-b21b-4047-a995-5208c8ef67cb",
   "metadata": {},
   "source": [
    "Here is the the Gradient Boost model with a number of Grid Search parameters. "
   ]
  },
  {
   "cell_type": "code",
   "execution_count": 48,
   "id": "ea68dbdb-223c-4006-8310-ac6cb93becf0",
   "metadata": {
    "tags": []
   },
   "outputs": [
    {
     "name": "stdout",
     "output_type": "stream",
     "text": [
      "Best Parameters for Gradient Boosting: {'learning_rate': 0.1, 'n_estimators': 100}\n",
      "Gradient Boosting - Accuracy: 0.45269741985926504, Recall: 0.45269741985926504, F1 Score: 0.4511889902527841\n"
     ]
    }
   ],
   "source": [
    "param_grid_gb = {'n_estimators': [50, 100], 'learning_rate': [0.01, 0.1, 0.2]}\n",
    "grid_search_gb = GridSearchCV(GradientBoostingClassifier(random_state=86), param_grid_gb, n_jobs=-1)\n",
    "grid_search_gb.fit(pca_train_data, train_df['Grouped-Label'])\n",
    "print(f\"Best Parameters for Gradient Boosting: {grid_search_gb.best_params_}\")\n",
    "\n",
    "best_gb_model = grid_search_gb.best_estimator_\n",
    "gb_predictions = best_gb_model.predict(pca_test_data)\n",
    "\n",
    "# Calculate metrics\n",
    "gb_accuracy = accuracy_score(test_df['Grouped-Label'], gb_predictions)\n",
    "gb_recall = recall_score(test_df['Grouped-Label'], gb_predictions, average='weighted')\n",
    "gb_f1 = f1_score(test_df['Grouped-Label'], gb_predictions, average='weighted')\n",
    "\n",
    "print(f\"Gradient Boosting - Accuracy: {gb_accuracy}, Recall: {gb_recall}, F1 Score: {gb_f1}\")"
   ]
  },
  {
   "cell_type": "markdown",
   "id": "ea1ec904-7fe0-4a62-a86c-3ffb8b85a012",
   "metadata": {},
   "source": [
    "Here is the the Neural Net model with a number of Grid Search parameters. "
   ]
  },
  {
   "cell_type": "code",
   "execution_count": 49,
   "id": "1eaeca95-27b6-4e1b-94bf-e4987cc5eed1",
   "metadata": {
    "tags": []
   },
   "outputs": [
    {
     "name": "stdout",
     "output_type": "stream",
     "text": [
      "Best Parameters for Neural Network: {'hidden_layer_sizes': (50,), 'learning_rate_init': 0.001}\n",
      "Neural Networks - Accuracy: 0.4222048475371384, Recall: 0.4222048475371384, F1 Score: 0.42017839067846513\n"
     ]
    }
   ],
   "source": [
    "param_grid_nn = {'hidden_layer_sizes': [(50,), (100,), (50, 50)], 'learning_rate_init': [0.001, 0.01]}\n",
    "grid_search_nn = GridSearchCV(MLPClassifier(max_iter=500, random_state=86), param_grid_nn, n_jobs=-1)\n",
    "grid_search_nn.fit(pca_train_data, train_df['Grouped-Label'])\n",
    "print(f\"Best Parameters for Neural Network: {grid_search_nn.best_params_}\")\n",
    "\n",
    "best_nn_model = grid_search_nn.best_estimator_\n",
    "nn_predictions = best_nn_model.predict(pca_test_data)\n",
    "\n",
    "# Calculate metrics\n",
    "nn_accuracy = accuracy_score(test_df['Grouped-Label'], nn_predictions)\n",
    "nn_recall = recall_score(test_df['Grouped-Label'], nn_predictions, average='weighted')\n",
    "nn_f1 = f1_score(test_df['Grouped-Label'], nn_predictions, average='weighted')\n",
    "\n",
    "print(f\"Neural Networks - Accuracy: {nn_accuracy}, Recall: {nn_recall}, F1 Score: {nn_f1}\")"
   ]
  },
  {
   "cell_type": "markdown",
   "id": "9ae4f158-262f-4e05-bd48-96e9ab429fe6",
   "metadata": {},
   "source": [
    "### Tuned Model Comparison "
   ]
  },
  {
   "cell_type": "code",
   "execution_count": 50,
   "id": "1fa7f0b3-8880-4321-85a2-5cf8a4a63f1b",
   "metadata": {
    "tags": []
   },
   "outputs": [
    {
     "data": {
      "image/png": "[encoded data removed]",
      "text/plain": [
       "<Figure size 1000x600 with 1 Axes>"
      ]
     },
     "metadata": {},
     "output_type": "display_data"
    }
   ],
   "source": [
    "\n",
    "# Replace these lists with your actual metrics\n",
    "models = ['Logistic Regression', 'Random Forest', 'SVM', 'Gradient Boosting', 'Neural Networks']\n",
    "accuracy_scores = [lr_accuracy, rf_accuracy, svm_accuracy, gb_accuracy, nn_accuracy]\n",
    "recall_scores = [lr_recall, rf_recall, svm_recall, gb_recall, nn_recall]\n",
    "f1_scores = [lr_f1, rf_f1, svm_f1, gb_f1, nn_f1]\n",
    "\n",
    "# Create subplots for each metric\n",
    "fig, ax = plt.subplots(figsize=(10, 6))\n",
    "\n",
    "# Create an index for each tick position\n",
    "ind = np.arange(len(models))\n",
    "\n",
    "# Plot accuracy\n",
    "accuracy_bar = ax.barh(ind - 0.2, accuracy_scores, 0.2, color='r', label='Accuracy')\n",
    "\n",
    "# Plot recall\n",
    "recall_bar = ax.barh(ind, recall_scores, 0.2, color='g', label='Recall')\n",
    "\n",
    "# Plot F1 Score\n",
    "f1_score_bar = ax.barh(ind + 0.2, f1_scores, 0.2, color='b', label='F1 Score')\n",
    "\n",
    "# Describe the data\n",
    "ax.set_xlabel('Scores')\n",
    "ax.set_title('Optimized Model Comparison: Accuracy, Recall, F1 Score')\n",
    "ax.set_yticks(ind)\n",
    "ax.set_yticklabels(models)\n",
    "ax.legend()\n",
    "\n",
    "plt.show()"
   ]
  },
  {
   "cell_type": "markdown",
   "id": "b3181cec-cbc6-4fdc-8c61-8074a9679bb9",
   "metadata": {},
   "source": [
    "#### Logistic Regression\n",
    "- **Best Parameters**: {'C': 0.001, 'max_iter': 1000, 'penalty': 'l2', 'solver': 'lbfgs'}\n",
    "- **Accuracy**: 43.5%\n",
    "- **Recall**: 43.5%\n",
    "- **F1-Score**: 43.1%\n",
    "\n",
    "#### Random Forest\n",
    "- **Best Parameters**: {'max_depth': 30, 'n_estimators': 200}\n",
    "- **Accuracy**: 47.6%\n",
    "- **Recall**: 47.6%\n",
    "- **F1-Score**: 47.6%\n",
    "\n",
    "#### Support Vector Machine (SVM)\n",
    "- **Best Parameters**: {'C': 10, 'kernel': 'rbf'}\n",
    "- **Accuracy**: 44.7%\n",
    "- **Recall**: 44.7%\n",
    "- **F1-Score**: 44.4%\n",
    "\n",
    "#### Gradient Boosting\n",
    "- **Best Parameters**: {'learning_rate': 0.1, 'n_estimators': 100}\n",
    "- **Accuracy**: 45.3%\n",
    "- **Recall**: 45.3%\n",
    "- **F1-Score**: 45.1%\n",
    "\n",
    "#### Neural Networks\n",
    "- **Best Parameters**: {'hidden_layer_sizes': (50,), 'learning_rate_init': 0.001}\n",
    "- **Accuracy**: 42.2%\n",
    "- **Recall**: 42.2%\n",
    "- **F1-Score**: 42.0%"
   ]
  },
  {
   "cell_type": "markdown",
   "id": "d8f65780-a61c-4102-87c4-1f7143e04135",
   "metadata": {},
   "source": [
    "### Comparison of Original and GridSearch Optimized Models\n",
    "\n",
    "To assess the efficacy of hyperparameter tuning, we can compare the original models with their optimized versions obtained via GridSearchCV. The key metrics focused on are Accuracy, Recall, and F1-score.\n",
    "\n",
    "#### Logistic Regression\n",
    "\n",
    "- **Original**: Accuracy: 44%, Recall: 44%, F1-Score: 44%\n",
    "- **GridSearch Optimized**: Accuracy: 43.5%, Recall: 43.5%, F1-Score: 43.1%\n",
    "  - **Observation**: Slight decrease in performance, possibly due to overfitting or limitations in the hyperparameter space.\n",
    "\n",
    "#### Random Forest\n",
    "\n",
    "- **Original**: Accuracy: 46%, Recall: 46%, F1-Score: 46%\n",
    "- **GridSearch Optimized**: Accuracy: 47.6%, Recall: 47.6%, F1-Score: 47.6%\n",
    "  - **Observation**: Noticeable improvement in all metrics, indicating beneficial hyperparameter tuning.\n",
    "\n",
    "#### Support Vector Machine (SVM)\n",
    "\n",
    "- **Original**: Accuracy: 47%, Recall: 47%, F1-Score: 46%\n",
    "- **GridSearch Optimized**: Accuracy: 44.7%, Recall: 44.7%, F1-Score: 44.4%\n",
    "  - **Observation**: Slight decrease in performance, similar to Logistic Regression.\n",
    "\n",
    "#### Gradient Boosting\n",
    "\n",
    "- **Original**: Accuracy: 45%, Recall: 45%, F1-Score: 45%\n",
    "- **GridSearch Optimized**: Accuracy: 45.3%, Recall: 45.3%, F1-Score: 45.1%\n",
    "  - **Observation**: Marginal improvement, indicating the original model was relatively well-tuned.\n",
    "\n",
    "#### Neural Networks\n",
    "\n",
    "- **Original**: Accuracy: 41%, Recall: 40%, F1-Score: 40%\n",
    "- **GridSearch Optimized**: Accuracy: 42.2%, Recall: 42.2%, F1-Score: 42.0%\n",
    "  - **Observation**: Slight improvement, suggesting limited but positive impact of hyperparameter tuning.\n",
    "\n",
    "### Summary\n",
    "\n",
    "- **Most Improved Model**: Random Forest benefited the most from hyperparameter tuning.\n",
    "- **Least Improved Model**: Neural Networks and Gradient Boosting showed marginal improvements.\n",
    "- **Performance Decrease**: Logistic Regression and SVM experienced a performance drop.\n",
    "\n",
    "In summary, the outcomes of hyperparameter tuning were mixed. While some models saw improvements, others experienced slight drops in performance metrics, emphasizing the need for a careful hyperparameter tuning process."
   ]
  }
 ],
 "metadata": {
  "kernelspec": {
   "display_name": "deeplearning",
   "language": "python",
   "name": "deeplearning"
  },
  "language_info": {
   "codemirror_mode": {
    "name": "ipython",
    "version": 3
   },
   "file_extension": ".py",
   "mimetype": "text/x-python",
   "name": "python",
   "nbconvert_exporter": "python",
   "pygments_lexer": "ipython3",
   "version": "3.8.18"
  }
 },
 "nbformat": 4,
 "nbformat_minor": 5
}
